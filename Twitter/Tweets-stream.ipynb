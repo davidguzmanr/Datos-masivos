{
 "cells": [
  {
   "cell_type": "markdown",
   "metadata": {},
   "source": [
    "# Análisis de Tweets\n",
    "\n",
    "- Mario Horacio Garrido Czacki\n",
    "- E. David Guzmán Ramírez\n",
    "\n",
    "Generar un identificador de tendencias de tweets, para la descarga no se usarán filtros, sin\n",
    "embargo, los tweets deberán contener las palabras de ’UNAM’, ’virus’, ’hospital’,’covid-19’. Debes graficar las primeras 10 tendencias por día y agrupados durante todo el periodo de\n",
    "recolección."
   ]
  },
  {
   "cell_type": "code",
   "execution_count": 7,
   "metadata": {},
   "outputs": [],
   "source": [
    "import tweepy\n",
    "import pandas as pd\n",
    "import matplotlib.pyplot as plt\n",
    "import numpy as np\n",
    "# import warnings\n",
    "# warnings.filterwarnings(\"ignore\")"
   ]
  },
  {
   "cell_type": "markdown",
   "metadata": {},
   "source": [
    "## Keys y tokens"
   ]
  },
  {
   "cell_type": "markdown",
   "metadata": {},
   "source": [
    "Ponemos nuestras llaves y tokens para usar la API de Twitter:"
   ]
  },
  {
   "cell_type": "code",
   "execution_count": 10,
   "metadata": {},
   "outputs": [],
   "source": [
    "API_key = ''\n",
    "API_secret_key = ''\n",
    "Access_token = ''\n",
    "Access_token_secret = ''"
   ]
  },
  {
   "cell_type": "code",
   "execution_count": 11,
   "metadata": {},
   "outputs": [],
   "source": [
    "auth = tweepy.OAuthHandler(API_key, API_secret_key)\n",
    "auth.set_access_token(Access_token, Access_token_secret)\n",
    "\n",
    "api = tweepy.API(auth)"
   ]
  },
  {
   "cell_type": "markdown",
   "metadata": {},
   "source": [
    "Ahora empezamos a descargar tweets, cada status tiene la siguiente información, sólo guardaremos la que nos interesa\n",
    "\n",
    "```\n",
    "['_api', '_json', 'author', 'contributors', 'coordinates', 'created_at', 'destroy', 'display_text_range', 'entities', 'extended_tweet', 'favorite', 'favorite_count', 'favorited', 'filter_level', 'geo', 'id', 'id_str', 'in_reply_to_screen_name', 'in_reply_to_status_id', 'in_reply_to_status_id_str', 'in_reply_to_user_id', 'in_reply_to_user_id_str', 'is_quote_status', 'lang', 'parse', 'parse_list', 'place', 'possibly_sensitive', 'quote_count', 'reply_count', 'retweet', 'retweet_count', 'retweeted', 'retweets', 'source', 'source_url', 'text', 'timestamp_ms', 'truncated', 'user']\n",
    "```"
   ]
  },
  {
   "cell_type": "markdown",
   "metadata": {},
   "source": [
    "## Descarga\n",
    "\n",
    "Si hacemos las descargas sin filtros nos salen tweets de todo el mundo y no salen algunas de las palabras que nos gustaría (sobre todo UNAM), por lo que restringimos la búsqueda a México, para poder filtrar por ubicación podemos poner 'cajas delimitadoras' en los parámetros (ver [BoundingBox](https://boundingbox.klokantech.com/) para sacar las cajas)."
   ]
  },
  {
   "cell_type": "code",
   "execution_count": 4,
   "metadata": {},
   "outputs": [
    {
     "name": "stdout",
     "output_type": "stream",
     "text": [
      "500\n",
      "FIN!\n",
      "CPU times: user 2.12 s, sys: 23.1 ms, total: 2.14 s\n",
      "Wall time: 7min 39s\n"
     ]
    }
   ],
   "source": [
    "tweets_mayo_24 = pd.DataFrame(columns = ['created_at', 'text', 'coordinates', 'hashtags'])\n",
    "tweets = []\n",
    "\n",
    "#override tweepy.StreamListener to add logic to on_status\n",
    "class MyStreamListener(tweepy.StreamListener):\n",
    "    \n",
    "    def on_status(self, status):\n",
    "        \n",
    "        # Tomamos 25,000 tweets\n",
    "        if tweets_mayo_24.shape[0] < 25000:\n",
    "            tweet = [status.created_at, status.text, status.coordinates, status.entities['hashtags']]\n",
    "            tweets_mayo_24.loc[tweets_mayo_24.shape[0]] = tweet\n",
    "            \n",
    "#             # Es buena idea guardarlos de vez en cuando por si pasa algo\n",
    "#             if tweets_mayo_24.shape[0]%1000 == 0:\n",
    "#                 print(tweets_mayo_24.shape[0])\n",
    "#                 tweets_mayo_24.to_csv('Datos/tweets_mayo_24_2_David.csv', index = False)\n",
    "        else:\n",
    "            print('FIN!')\n",
    "            return False\n",
    "        \n",
    "myStreamListener = MyStreamListener()\n",
    "myStream = tweepy.Stream(auth = api.auth, listener=myStreamListener)\n",
    "\n",
    "# Centro de México\n",
    "caja1 = [-113.19,18.51,-86.23,24.94]\n",
    "# Sur de México\n",
    "caja2 = [-104.5743,14.7939,-92.8739,19.3242]\n",
    "# Norte de México, salen muchos en inglés así que no se usará\n",
    "caja3 = [-109.19,24.56,-103.72,28.73]\n",
    "\n",
    "%time myStream.filter(locations=[-113.19,18.51,-86.23,24.94,-104.5743,14.7939,-92.8739,19.3242])"
   ]
  },
  {
   "cell_type": "code",
   "execution_count": 18,
   "metadata": {},
   "outputs": [],
   "source": [
    "tweets_mayo_24  = pd.read_csv('Datos/David/tweets_mayo_24_David.csv')"
   ]
  },
  {
   "cell_type": "code",
   "execution_count": 21,
   "metadata": {},
   "outputs": [
    {
     "data": {
      "text/html": [
       "<div>\n",
       "<style scoped>\n",
       "    .dataframe tbody tr th:only-of-type {\n",
       "        vertical-align: middle;\n",
       "    }\n",
       "\n",
       "    .dataframe tbody tr th {\n",
       "        vertical-align: top;\n",
       "    }\n",
       "\n",
       "    .dataframe thead th {\n",
       "        text-align: right;\n",
       "    }\n",
       "</style>\n",
       "<table border=\"1\" class=\"dataframe\">\n",
       "  <thead>\n",
       "    <tr style=\"text-align: right;\">\n",
       "      <th></th>\n",
       "      <th>created_at</th>\n",
       "      <th>text</th>\n",
       "      <th>coordinates</th>\n",
       "      <th>hashtags</th>\n",
       "    </tr>\n",
       "  </thead>\n",
       "  <tbody>\n",
       "    <tr>\n",
       "      <th>0</th>\n",
       "      <td>2020-05-24 07:07:42</td>\n",
       "      <td>@Max91683268 Manda MD</td>\n",
       "      <td>NaN</td>\n",
       "      <td>[]</td>\n",
       "    </tr>\n",
       "    <tr>\n",
       "      <th>1</th>\n",
       "      <td>2020-05-24 07:07:42</td>\n",
       "      <td>Jalisco got some pretty females</td>\n",
       "      <td>NaN</td>\n",
       "      <td>[]</td>\n",
       "    </tr>\n",
       "    <tr>\n",
       "      <th>2</th>\n",
       "      <td>2020-05-24 07:07:43</td>\n",
       "      <td>@unamariant Somos dos 💅</td>\n",
       "      <td>NaN</td>\n",
       "      <td>[]</td>\n",
       "    </tr>\n",
       "    <tr>\n",
       "      <th>3</th>\n",
       "      <td>2020-05-24 07:07:44</td>\n",
       "      <td>@KikaBLUE2 Qué rica</td>\n",
       "      <td>NaN</td>\n",
       "      <td>[]</td>\n",
       "    </tr>\n",
       "    <tr>\n",
       "      <th>4</th>\n",
       "      <td>2020-05-24 07:07:47</td>\n",
       "      <td>Bájenle ....se llama  ACOSO a la joven Secreta...</td>\n",
       "      <td>NaN</td>\n",
       "      <td>[]</td>\n",
       "    </tr>\n",
       "  </tbody>\n",
       "</table>\n",
       "</div>"
      ],
      "text/plain": [
       "            created_at                                               text  \\\n",
       "0  2020-05-24 07:07:42                              @Max91683268 Manda MD   \n",
       "1  2020-05-24 07:07:42                    Jalisco got some pretty females   \n",
       "2  2020-05-24 07:07:43                            @unamariant Somos dos 💅   \n",
       "3  2020-05-24 07:07:44                                @KikaBLUE2 Qué rica   \n",
       "4  2020-05-24 07:07:47  Bájenle ....se llama  ACOSO a la joven Secreta...   \n",
       "\n",
       "  coordinates hashtags  \n",
       "0         NaN       []  \n",
       "1         NaN       []  \n",
       "2         NaN       []  \n",
       "3         NaN       []  \n",
       "4         NaN       []  "
      ]
     },
     "execution_count": 21,
     "metadata": {},
     "output_type": "execute_result"
    }
   ],
   "source": [
    "tweets_mayo_24.head()"
   ]
  },
  {
   "cell_type": "code",
   "execution_count": 14,
   "metadata": {},
   "outputs": [
    {
     "name": "stdout",
     "output_type": "stream",
     "text": [
      "Help on method filter in module tweepy.streaming:\n",
      "\n",
      "filter(follow=None, track=None, is_async=False, locations=None, stall_warnings=False, languages=None, encoding='utf8', filter_level=None) method of tweepy.streaming.Stream instance\n",
      "\n"
     ]
    }
   ],
   "source": [
    "help(myStream.filter)"
   ]
  },
  {
   "cell_type": "code",
   "execution_count": null,
   "metadata": {},
   "outputs": [],
   "source": [
    "tweets_mayo_24.to_csv('Datos/David/tweets_mayo_24_David.csv', index = False)"
   ]
  },
  {
   "cell_type": "markdown",
   "metadata": {},
   "source": [
    "## Referencias/Ayuda\n",
    "\n",
    "- [Streaming With Tweepy](http://docs.tweepy.org/en/latest/streaming_how_to.html)\n",
    "- [Filter realtime Tweets](https://developer.twitter.com/en/docs/tweets/filter-realtime/guides/basic-stream-parameters)\n",
    "- [Tweet objects](https://developer.twitter.com/en/docs/tweets/data-dictionary/overview/tweet-object)\n",
    "- [Filtered stream v1 (FAQ)](https://developer.twitter.com/en/docs/labs/filtered-stream/faq)\n",
    "- [How to add a location filter to tweepy module](https://stackoverflow.com/questions/22889122/how-to-add-a-location-filter-to-tweepy-module)\n",
    "- [Filter Twitter feeds only by language](https://stackoverflow.com/questions/26890605/filter-twitter-feeds-only-by-language)\n",
    "- [How can I use tweepy without a filter](https://stackoverflow.com/questions/27530269/how-can-i-use-tweepy-without-a-filter)"
   ]
  },
  {
   "cell_type": "code",
   "execution_count": null,
   "metadata": {},
   "outputs": [],
   "source": []
  }
 ],
 "metadata": {
  "kernelspec": {
   "display_name": "Python 3",
   "language": "python",
   "name": "python3"
  },
  "language_info": {
   "codemirror_mode": {
    "name": "ipython",
    "version": 3
   },
   "file_extension": ".py",
   "mimetype": "text/x-python",
   "name": "python",
   "nbconvert_exporter": "python",
   "pygments_lexer": "ipython3",
   "version": "3.7.3"
  }
 },
 "nbformat": 4,
 "nbformat_minor": 2
}
