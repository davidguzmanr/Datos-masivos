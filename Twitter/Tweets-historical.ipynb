{
 "cells": [
  {
   "cell_type": "markdown",
   "metadata": {},
   "source": [
    "# Análisis de Tweets\n",
    "\n",
    "- Mario Horacio Garrido Czacki\n",
    "- E. David Guzmán Ramírez\n",
    "\n",
    "Generar un identificador de tendencias de tweets, para la descarga no se usarán filtros, sin\n",
    "embargo, los tweets deberán contener las palabras de ’UNAM’, ’virus’, ’hospital’,’covid-19’. Debes graficar las primeras 10 tendencias por día y agrupados durante todo el periodo de\n",
    "recolección."
   ]
  },
  {
   "cell_type": "code",
   "execution_count": 1,
   "metadata": {},
   "outputs": [],
   "source": [
    "import tweepy\n",
    "import pandas as pd\n",
    "import matplotlib.pyplot as plt\n",
    "import numpy as np\n",
    "# import warnings\n",
    "# warnings.filterwarnings(\"ignore\")"
   ]
  },
  {
   "cell_type": "markdown",
   "metadata": {},
   "source": [
    "## Keys y tokens"
   ]
  },
  {
   "cell_type": "markdown",
   "metadata": {},
   "source": [
    "Ponemos nuestras llaves y tokens para usar la API de Twitter:"
   ]
  },
  {
   "cell_type": "code",
   "execution_count": 2,
   "metadata": {},
   "outputs": [],
   "source": [
    "API_key = ''\n",
    "API_secret_key = ''\n",
    "Access_token = ''\n",
    "Access_token_secret = ''"
   ]
  },
  {
   "cell_type": "code",
   "execution_count": 111,
   "metadata": {},
   "outputs": [],
   "source": [
    "auth = tweepy.OAuthHandler(API_key, API_secret_key)\n",
    "auth.set_access_token(Access_token, Access_token_secret)\n",
    "\n",
    "api = tweepy.API(auth, wait_on_rate_limit=True)"
   ]
  },
  {
   "cell_type": "markdown",
   "metadata": {},
   "source": [
    "Ahora empezamos a descargar tweets, cada status tiene la siguiente información, sólo guardaremos la que nos interesa\n",
    "\n",
    "```\n",
    "['_api', '_json', 'author', 'contributors', 'coordinates', 'created_at', 'destroy', 'display_text_range', 'entities', 'extended_tweet', 'favorite', 'favorite_count', 'favorited', 'filter_level', 'geo', 'id', 'id_str', 'in_reply_to_screen_name', 'in_reply_to_status_id', 'in_reply_to_status_id_str', 'in_reply_to_user_id', 'in_reply_to_user_id_str', 'is_quote_status', 'lang', 'parse', 'parse_list', 'place', 'possibly_sensitive', 'quote_count', 'reply_count', 'retweet', 'retweet_count', 'retweeted', 'retweets', 'source', 'source_url', 'text', 'timestamp_ms', 'truncated', 'user']\n",
    "```"
   ]
  },
  {
   "cell_type": "markdown",
   "metadata": {},
   "source": [
    "## Descarga\n",
    "\n",
    "Dercagamos algunos tweets históricos para rellenar lo que falta de algunos días."
   ]
  },
  {
   "cell_type": "markdown",
   "metadata": {},
   "source": [
    "### Mayo 20"
   ]
  },
  {
   "cell_type": "code",
   "execution_count": 69,
   "metadata": {},
   "outputs": [
    {
     "name": "stdout",
     "output_type": "stream",
     "text": [
      "CPU times: user 4.31 s, sys: 279 ms, total: 4.59 s\n",
      "Wall time: 2min 18s\n"
     ]
    }
   ],
   "source": [
    "# q = '*' es cualquier cosa, no filtramos por palabras\n",
    "tweets = tweepy.Cursor(api.search, q=\"*\", count = 100,\n",
    "                      since = '2020-05-20', until = '2020-05-21', \n",
    "                      geocode = '19.4978,-99.1269,500km').items(10000)\n",
    "\n",
    "%time tweets_20 = [t for t in tweets]"
   ]
  },
  {
   "cell_type": "code",
   "execution_count": 71,
   "metadata": {},
   "outputs": [],
   "source": [
    "df_tweets_20 = pd.DataFrame(columns = ['created_at', 'text', 'coordinates', 'hashtags'])\n",
    "\n",
    "for tweet in tweets_20:\n",
    "    x = tweet._json\n",
    "    tweet = [x['created_at'], x['text'], x['coordinates'], x['entities']['hashtags']]\n",
    "    df_tweets_20.loc[df_tweets_20.shape[0]] = tweet\n",
    "    \n",
    "df_tweets_20.to_csv('Datos/Historicos/mayo_20.csv', index = False)"
   ]
  },
  {
   "cell_type": "markdown",
   "metadata": {},
   "source": [
    "### Mayo 21"
   ]
  },
  {
   "cell_type": "code",
   "execution_count": 116,
   "metadata": {
    "scrolled": true
   },
   "outputs": [],
   "source": [
    "# q = '*' es cualquier cosa, no filtramos por palabras\n",
    "tweets = tweepy.Cursor(api.search, q=\"*\", count = 100,\n",
    "                      since = '2020-05-21', until = '2020-05-22', \n",
    "                      geocode = '19.4978,-99.1269,1000km').items(10000)\n",
    "\n",
    "%time tweets_21 = [t for t in tweets]"
   ]
  },
  {
   "cell_type": "code",
   "execution_count": 129,
   "metadata": {},
   "outputs": [],
   "source": [
    "df_tweets_21 = pd.DataFrame(columns = ['created_at', 'text', 'coordinates', 'hashtags'])\n",
    "\n",
    "for tweet in tweets_21:\n",
    "    x = tweet._json\n",
    "    tweet = [x['created_at'], x['text'], x['coordinates'], x['entities']['hashtags']]\n",
    "    df_tweets_21.loc[df_tweets_21.shape[0]] = tweet\n",
    "    \n",
    "df_tweets_21.to_csv('Datos/Historicos/mayo_21.csv', index = False)"
   ]
  },
  {
   "cell_type": "markdown",
   "metadata": {},
   "source": [
    "### Mayo 23"
   ]
  },
  {
   "cell_type": "code",
   "execution_count": 116,
   "metadata": {},
   "outputs": [
    {
     "name": "stdout",
     "output_type": "stream",
     "text": [
      "CPU times: user 823 ms, sys: 28.4 ms, total: 851 ms\n",
      "Wall time: 26.1 s\n"
     ]
    }
   ],
   "source": [
    "tweets = tweepy.Cursor(api.search, q=\"*\", count = 100,\n",
    "                      since = '2020-05-23', until = '2020-05-24', \n",
    "                      geocode = '19.4978,-99.1269,1000km').items(10000)\n",
    "\n",
    "%time tweets_23 = [t for t in tweets]"
   ]
  },
  {
   "cell_type": "code",
   "execution_count": 117,
   "metadata": {},
   "outputs": [],
   "source": [
    "# q = '*' es cualquier cosa, no filtramos por palabras\n",
    "\n",
    "df_tweets_23 = pd.DataFrame(columns = ['created_at', 'text', 'coordinates', 'hashtags'])\n",
    "\n",
    "for tweet in tweets_23:\n",
    "    x = tweet._json\n",
    "    tweet = [x['created_at'], x['text'], x['coordinates'], x['entities']['hashtags']]\n",
    "    df_tweets_23.loc[df_tweets_23.shape[0]] = tweet\n",
    "    \n",
    "df_tweets_23.to_csv('Datos/Historicos/mayo_23.csv', index = False)"
   ]
  },
  {
   "cell_type": "markdown",
   "metadata": {},
   "source": [
    "## Referencias/Ayuda\n",
    "\n",
    "- [API.search](http://docs.tweepy.org/en/latest/api.html#API.search)\n",
    "- [Cursor Tutorial](http://docs.tweepy.org/en/v3.8.0/cursor_tutorial.html)\n",
    "- [Standard search API](https://developer.twitter.com/en/docs/tweets/search/api-reference/get-search-tweets)"
   ]
  },
  {
   "cell_type": "code",
   "execution_count": null,
   "metadata": {},
   "outputs": [],
   "source": []
  }
 ],
 "metadata": {
  "kernelspec": {
   "display_name": "Python 3",
   "language": "python",
   "name": "python3"
  },
  "language_info": {
   "codemirror_mode": {
    "name": "ipython",
    "version": 3
   },
   "file_extension": ".py",
   "mimetype": "text/x-python",
   "name": "python",
   "nbconvert_exporter": "python",
   "pygments_lexer": "ipython3",
   "version": "3.7.3"
  }
 },
 "nbformat": 4,
 "nbformat_minor": 2
}
